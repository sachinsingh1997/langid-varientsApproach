{
 "cells": [
  {
   "cell_type": "code",
   "execution_count": 33,
   "metadata": {},
   "outputs": [],
   "source": [
    "import pandas as pd\n",
    "import numpy as np\n",
    "import csv\n",
    "import re\n",
    "import sys"
   ]
  },
  {
   "cell_type": "code",
   "execution_count": 34,
   "metadata": {},
   "outputs": [
    {
     "name": "stderr",
     "output_type": "stream",
     "text": [
      "/home/flame/.local/lib/python3.6/site-packages/ipykernel_launcher.py:2: FutureWarning: read_table is deprecated, use read_csv instead, passing sep='\\t'.\n",
      "  \n"
     ]
    },
    {
     "data": {
      "text/html": [
       "<div>\n",
       "<style scoped>\n",
       "    .dataframe tbody tr th:only-of-type {\n",
       "        vertical-align: middle;\n",
       "    }\n",
       "\n",
       "    .dataframe tbody tr th {\n",
       "        vertical-align: top;\n",
       "    }\n",
       "\n",
       "    .dataframe thead th {\n",
       "        text-align: right;\n",
       "    }\n",
       "</style>\n",
       "<table border=\"1\" class=\"dataframe\">\n",
       "  <thead>\n",
       "    <tr style=\"text-align: right;\">\n",
       "      <th></th>\n",
       "      <th>Text</th>\n",
       "      <th>lang</th>\n",
       "    </tr>\n",
       "  </thead>\n",
       "  <tbody>\n",
       "    <tr>\n",
       "      <th>0</th>\n",
       "      <td>Segundo a Apeoesp, o secretário da Educação, C...</td>\n",
       "      <td>0</td>\n",
       "    </tr>\n",
       "    <tr>\n",
       "      <th>1</th>\n",
       "      <td>E as falcatruas e fraudes em todos os níveis, ...</td>\n",
       "      <td>0</td>\n",
       "    </tr>\n",
       "    <tr>\n",
       "      <th>2</th>\n",
       "      <td>Rebeldes podem soltar refém</td>\n",
       "      <td>0</td>\n",
       "    </tr>\n",
       "    <tr>\n",
       "      <th>3</th>\n",
       "      <td>Apesar de arriscado, o estilo reflete o moment...</td>\n",
       "      <td>0</td>\n",
       "    </tr>\n",
       "    <tr>\n",
       "      <th>4</th>\n",
       "      <td>Essa nova versão de «O Fugitivo» também mostro...</td>\n",
       "      <td>0</td>\n",
       "    </tr>\n",
       "  </tbody>\n",
       "</table>\n",
       "</div>"
      ],
      "text/plain": [
       "                                                Text  lang\n",
       "0  Segundo a Apeoesp, o secretário da Educação, C...     0\n",
       "1  E as falcatruas e fraudes em todos os níveis, ...     0\n",
       "2                        Rebeldes podem soltar refém     0\n",
       "3  Apesar de arriscado, o estilo reflete o moment...     0\n",
       "4  Essa nova versão de «O Fugitivo» também mostro...     0"
      ]
     },
     "execution_count": 34,
     "metadata": {},
     "output_type": "execute_result"
    }
   ],
   "source": [
    "names = ['Text']\n",
    "d1 = pd.read_table('samp.pt-br', header=None, delimiter=None, names=names, engine=None)\n",
    "\n",
    "d1['lang'] = 0\n",
    "d1.head()"
   ]
  },
  {
   "cell_type": "code",
   "execution_count": 35,
   "metadata": {},
   "outputs": [
    {
     "data": {
      "text/html": [
       "<div>\n",
       "<style scoped>\n",
       "    .dataframe tbody tr th:only-of-type {\n",
       "        vertical-align: middle;\n",
       "    }\n",
       "\n",
       "    .dataframe tbody tr th {\n",
       "        vertical-align: top;\n",
       "    }\n",
       "\n",
       "    .dataframe thead th {\n",
       "        text-align: right;\n",
       "    }\n",
       "</style>\n",
       "<table border=\"1\" class=\"dataframe\">\n",
       "  <thead>\n",
       "    <tr style=\"text-align: right;\">\n",
       "      <th></th>\n",
       "      <th>Text</th>\n",
       "      <th>lang</th>\n",
       "    </tr>\n",
       "  </thead>\n",
       "  <tbody>\n",
       "    <tr>\n",
       "      <th>0</th>\n",
       "      <td>Eu continuo a acreditar na justiça .</td>\n",
       "      <td>1</td>\n",
       "    </tr>\n",
       "    <tr>\n",
       "      <th>1</th>\n",
       "      <td>O torneio decorre até ao próximo dia 20 e os e...</td>\n",
       "      <td>1</td>\n",
       "    </tr>\n",
       "    <tr>\n",
       "      <th>2</th>\n",
       "      <td>Os Vancouver Grizzlies protagonizaram a surpre...</td>\n",
       "      <td>1</td>\n",
       "    </tr>\n",
       "    <tr>\n",
       "      <th>3</th>\n",
       "      <td>Um recente artigo publicado no « Novo Jornal »...</td>\n",
       "      <td>1</td>\n",
       "    </tr>\n",
       "    <tr>\n",
       "      <th>4</th>\n",
       "      <td>« Estamos a fazer esforços para que , ainda no...</td>\n",
       "      <td>1</td>\n",
       "    </tr>\n",
       "  </tbody>\n",
       "</table>\n",
       "</div>"
      ],
      "text/plain": [
       "                                                Text  lang\n",
       "0               Eu continuo a acreditar na justiça .     1\n",
       "1  O torneio decorre até ao próximo dia 20 e os e...     1\n",
       "2  Os Vancouver Grizzlies protagonizaram a surpre...     1\n",
       "3  Um recente artigo publicado no « Novo Jornal »...     1\n",
       "4  « Estamos a fazer esforços para que , ainda no...     1"
      ]
     },
     "execution_count": 35,
     "metadata": {},
     "output_type": "execute_result"
    }
   ],
   "source": [
    "names = ['Text']\n",
    "d2 = pd.read_csv('samp.pt-pt', header=None, delimiter=None, names=names, engine='python-fwf')\n",
    "d2['lang'] = 1\n",
    "\n",
    "d2.head()"
   ]
  },
  {
   "cell_type": "code",
   "execution_count": 36,
   "metadata": {},
   "outputs": [
    {
     "name": "stdout",
     "output_type": "stream",
     "text": [
      "47554 50000\n"
     ]
    }
   ],
   "source": [
    "print(len(d1), len(d2))"
   ]
  },
  {
   "cell_type": "code",
   "execution_count": 37,
   "metadata": {},
   "outputs": [],
   "source": [
    "dt = [d1, d2]\n",
    "df = pd.concat(dt)\n",
    "\n",
    "df = df.sample(frac=1).reset_index(drop=True)"
   ]
  },
  {
   "cell_type": "code",
   "execution_count": 38,
   "metadata": {},
   "outputs": [
    {
     "data": {
      "text/html": [
       "<div>\n",
       "<style scoped>\n",
       "    .dataframe tbody tr th:only-of-type {\n",
       "        vertical-align: middle;\n",
       "    }\n",
       "\n",
       "    .dataframe tbody tr th {\n",
       "        vertical-align: top;\n",
       "    }\n",
       "\n",
       "    .dataframe thead th {\n",
       "        text-align: right;\n",
       "    }\n",
       "</style>\n",
       "<table border=\"1\" class=\"dataframe\">\n",
       "  <thead>\n",
       "    <tr style=\"text-align: right;\">\n",
       "      <th></th>\n",
       "      <th>Text</th>\n",
       "      <th>lang</th>\n",
       "    </tr>\n",
       "  </thead>\n",
       "  <tbody>\n",
       "    <tr>\n",
       "      <th>0</th>\n",
       "      <td>No final , Cason , Christie e Lewis abraçaram-...</td>\n",
       "      <td>1</td>\n",
       "    </tr>\n",
       "    <tr>\n",
       "      <th>1</th>\n",
       "      <td>Achamos que esgotamos o que tínhamos que fazer...</td>\n",
       "      <td>0</td>\n",
       "    </tr>\n",
       "    <tr>\n",
       "      <th>2</th>\n",
       "      <td>O imediatismo cega as pessoas e as leva a conf...</td>\n",
       "      <td>0</td>\n",
       "    </tr>\n",
       "    <tr>\n",
       "      <th>3</th>\n",
       "      <td>Na greve, 3 milhões de pessoas ficaram sem tra...</td>\n",
       "      <td>0</td>\n",
       "    </tr>\n",
       "    <tr>\n",
       "      <th>4</th>\n",
       "      <td>Depois de , aquando do debate entre Carlos Can...</td>\n",
       "      <td>1</td>\n",
       "    </tr>\n",
       "  </tbody>\n",
       "</table>\n",
       "</div>"
      ],
      "text/plain": [
       "                                                Text  lang\n",
       "0  No final , Cason , Christie e Lewis abraçaram-...     1\n",
       "1  Achamos que esgotamos o que tínhamos que fazer...     0\n",
       "2  O imediatismo cega as pessoas e as leva a conf...     0\n",
       "3  Na greve, 3 milhões de pessoas ficaram sem tra...     0\n",
       "4  Depois de , aquando do debate entre Carlos Can...     1"
      ]
     },
     "execution_count": 38,
     "metadata": {},
     "output_type": "execute_result"
    }
   ],
   "source": [
    "df.head()"
   ]
  },
  {
   "cell_type": "code",
   "execution_count": 39,
   "metadata": {},
   "outputs": [
    {
     "data": {
      "text/plain": [
       "97554"
      ]
     },
     "execution_count": 39,
     "metadata": {},
     "output_type": "execute_result"
    }
   ],
   "source": [
    "len(df)"
   ]
  },
  {
   "cell_type": "code",
   "execution_count": 40,
   "metadata": {},
   "outputs": [
    {
     "data": {
      "text/plain": [
       "1    50000\n",
       "0    47554\n",
       "Name: lang, dtype: int64"
      ]
     },
     "execution_count": 40,
     "metadata": {},
     "output_type": "execute_result"
    }
   ],
   "source": [
    "df['lang'].value_counts()"
   ]
  },
  {
   "cell_type": "code",
   "execution_count": 41,
   "metadata": {},
   "outputs": [],
   "source": [
    "# Preprocessing of the text, took care of basic pre-processing task only.\n",
    "\n",
    "def processSent(sent):\n",
    "    # To lowercase\n",
    "    sent = sent.lower()\n",
    "    #remove @username\n",
    "    sent = re.sub(r'@(\\w+)','',sent)\n",
    "    \n",
    "    # Remove hashtags\n",
    "    sent = re.sub(r'#(\\w+)', '', sent)\n",
    "    \n",
    "    # Remove Punctuation and split 's, 't, 've with a space for filter    \n",
    "    sent = re.sub(r\"[-()\\\"«/;»:<>{}`+=~|.!&?',]\", \"\", sent)\n",
    "    \n",
    "    # remove the numerical values\n",
    "    sent = re.sub(r\"(\\s\\d+)\",\"\",sent) \n",
    "    \n",
    "    # Remove HTML special entities (e.g. &amp;)\n",
    "    sent = re.sub(r'\\&\\w*;', '', sent)\n",
    "    \n",
    "    # Remove tickers\n",
    "    sent = re.sub(r'\\$\\w*', '', sent)\n",
    "    \n",
    "    # Remove hyperlinks\n",
    "    sent = re.sub(r'https?:\\/\\/.*\\/\\w*', '', sent)\n",
    "   \n",
    "    # Remove whitespace (including new line characters)\n",
    "    sent = re.sub(r'\\s\\s+', ' ', sent)\n",
    "   \n",
    "    # Remove single space remaining at the front of the sent.\n",
    "    sent = sent.lstrip(' ') \n",
    "    \n",
    "    # Remove characters beyond Basic Multilingual Plane (BMP) of Unicode:\n",
    "    sent = ''.join(c for c in sent if c <= '\\uFFFF') \n",
    "    \n",
    "    return sent"
   ]
  },
  {
   "cell_type": "code",
   "execution_count": 42,
   "metadata": {},
   "outputs": [
    {
     "name": "stdout",
     "output_type": "stream",
     "text": [
      "                                                Text  lang\n",
      "0  no final cason christie e lewis abraçaramse ma...     1\n",
      "1  achamos que esgotamos o que tínhamos que fazer...     0\n",
      "2  o imediatismo cega as pessoas e as leva a conf...     0\n",
      "3  na greve milhões de pessoas ficaram sem transp...     0\n",
      "4  depois de aquando do debate entre carlos canda...     1\n"
     ]
    }
   ],
   "source": [
    "data = df.copy()\n",
    "data['Text'] = data['Text'].apply(processSent)\n",
    "print(data.head())"
   ]
  },
  {
   "cell_type": "code",
   "execution_count": 43,
   "metadata": {},
   "outputs": [
    {
     "name": "stdout",
     "output_type": "stream",
     "text": [
      "(97554, 6000)\n"
     ]
    }
   ],
   "source": [
    "from sklearn.feature_extraction.text import TfidfVectorizer\n",
    "train = list(data['Text'])\n",
    "# test = list(dft['Text'])\n",
    "# corpus = train+test\n",
    "corpus = train\n",
    "tfidf = TfidfVectorizer(max_features = 6000) \n",
    "tfidf.fit(corpus)\n",
    "tfidf_features = tfidf.transform(corpus)\n",
    "# tfidf_features_test = tfidf.transform(test)\n",
    "\n",
    "print(tfidf_features.shape)"
   ]
  },
  {
   "cell_type": "code",
   "execution_count": 44,
   "metadata": {},
   "outputs": [
    {
     "name": "stdout",
     "output_type": "stream",
     "text": [
      "Train:  (78043, 6000) (78043,)\n",
      "Test:  (19511, 6000) (19511,)\n"
     ]
    }
   ],
   "source": [
    "from sklearn.preprocessing import LabelEncoder\n",
    "from sklearn.svm import LinearSVC\n",
    "from sklearn.metrics import precision_recall_fscore_support\n",
    "from sklearn.svm import SVC\n",
    "\n",
    "\n",
    "# Converting the labels from strings to binary (if we have string 'lang' labels)\n",
    "label = data['lang']\n",
    "le = LabelEncoder()\n",
    "le.fit(label)\n",
    "label = le.transform(label)\n",
    "\n",
    "\n",
    "import numpy as np\n",
    "from sklearn.linear_model import LogisticRegression\n",
    "from sklearn.model_selection import train_test_split, cross_validate\n",
    "from sklearn.metrics import classification_report, confusion_matrix\n",
    "from sklearn.naive_bayes import MultinomialNB\n",
    "# from sklearn import cross_validation\n",
    "\n",
    "# # Taking 80/20 train test split\n",
    "# train_percent = 0.8\n",
    "# train_cutoff = int(np.floor(train_percent*len(data['Text']) ) )\n",
    "X_train,X_test, Y_train, Y_test = train_test_split(tfidf_features, label, test_size=0.2, random_state=42)\n",
    "# X_train = tfidf_features_train\n",
    "# Y_train = label\n",
    "\n",
    "# X_test = tfidf_features_test\n",
    "\n",
    "# X_train,X_val, Y_train, Y_val = train_test_split(X_train, Y_train, test_size=0.2, random_state=42)\n",
    "\n",
    "print(\"Train: \", (X_train.shape), (Y_train.shape))\n",
    "print(\"Test: \", (X_test.shape), (Y_test.shape))"
   ]
  },
  {
   "cell_type": "code",
   "execution_count": 45,
   "metadata": {},
   "outputs": [
    {
     "name": "stderr",
     "output_type": "stream",
     "text": [
      "/home/flame/.local/lib/python3.6/site-packages/sklearn/linear_model/logistic.py:758: ConvergenceWarning: lbfgs failed to converge. Increase the number of iterations.\n",
      "  \"of iterations.\", ConvergenceWarning)\n"
     ]
    }
   ],
   "source": [
    "tfidf_model = LogisticRegression(random_state=0, solver='lbfgs', multi_class='multinomial')\n",
    "# 81.5%\n",
    "\n",
    "# tfidf_model = MultinomialNB()  \n",
    "# 78.2%\n",
    "tfidf_model.fit(X_train, Y_train)\n",
    "tfidf_prediction = tfidf_model.predict(X_test)\n",
    "\n",
    "\n",
    "results = pd.DataFrame(index = ['Word Embedding', 'TF-IDF'], \n",
    "          columns = ['Precision', 'Recall', 'F1 score', 'support']\n",
    "          )\n",
    "results.loc['TF-IDF'] = precision_recall_fscore_support(\n",
    "          Y_test, \n",
    "          tfidf_prediction, \n",
    "          average = None\n",
    "          )"
   ]
  },
  {
   "cell_type": "code",
   "execution_count": 46,
   "metadata": {},
   "outputs": [
    {
     "name": "stdout",
     "output_type": "stream",
     "text": [
      "Precision    [0.8140391496527047, 0.8240583474872615]\n",
      "Recall         [0.81455349620893, 0.8235646530204693]\n",
      "F1 score     [0.8142962417096536, 0.8238114262884538]\n",
      "support                                 [9496, 10015]\n",
      "Name: TF-IDF, dtype: object\n",
      "[[1. 0.]\n",
      " [0. 1.]\n",
      " [0. 1.]\n",
      " ...\n",
      " [0. 1.]\n",
      " [1. 0.]\n",
      " [0. 1.]] [[1. 0.]\n",
      " [0. 1.]\n",
      " [0. 1.]\n",
      " ...\n",
      " [0. 1.]\n",
      " [1. 0.]\n",
      " [0. 1.]]\n"
     ]
    }
   ],
   "source": [
    "print(results.loc['TF-IDF'])\n",
    "Y_pred = tfidf_prediction\n",
    "\n",
    "k = 19511\n",
    "dim = 2\n",
    "\n",
    "P1 = np.zeros((k,dim), dtype=np.float32)\n",
    "P2 = np.zeros((k,dim), dtype=np.float32)\n",
    "\n",
    "for i in range(k):\n",
    "    P1[i][int(Y_test[i])]=1.0\n",
    "    P2[i][int(Y_pred[i])]=1.0\n",
    "\n",
    "print(P1, P2)"
   ]
  },
  {
   "cell_type": "code",
   "execution_count": 47,
   "metadata": {},
   "outputs": [
    {
     "name": "stdout",
     "output_type": "stream",
     "text": [
      "0 9502\n",
      "1 10009\n",
      "[[7735 1767]\n",
      " [1761 8248]]\n"
     ]
    },
    {
     "data": {
      "image/png": "[encoded data removed]",
      "text/plain": [
       "<Figure size 720x504 with 2 Axes>"
      ]
     },
     "metadata": {},
     "output_type": "display_data"
    }
   ],
   "source": [
    "P1 = np.argmax(P1, axis=1)\n",
    "for ix in range(2):\n",
    "    print(ix, confusion_matrix(np.argmax(P2, axis=1), P1)[ix].sum())\n",
    "cm = confusion_matrix(np.argmax(P2, axis=1), P1)\n",
    "print(cm)\n",
    "\n",
    "import seaborn as sn\n",
    "import matplotlib.pyplot as plt\n",
    " \n",
    "df_cm = pd.DataFrame(cm, range(2), range(2))\n",
    "plt.figure(figsize=(10,7))\n",
    "sn.set(font_scale=1.4)\n",
    "sn.heatmap(df_cm, annot=True)\n",
    "sn.set_context(\"poster\")\n",
    "plt.xlabel(\"Predicted Label\")\n",
    "plt.ylabel(\"True Label\")\n",
    "plt.title(\"Confusion Matrix\")\n",
    "# plt.savefig('gdrive/My Drive/PolEval/confusionMatrix2.png')\n",
    "plt.show()"
   ]
  },
  {
   "cell_type": "code",
   "execution_count": 48,
   "metadata": {},
   "outputs": [
    {
     "name": "stdout",
     "output_type": "stream",
     "text": [
      "              precision    recall  f1-score   support\n",
      "\n",
      "       Pt-br       0.81      0.81      0.81      9502\n",
      "       Pt-pt       0.82      0.82      0.82     10009\n",
      "\n",
      "   micro avg       0.82      0.82      0.82     19511\n",
      "   macro avg       0.82      0.82      0.82     19511\n",
      "weighted avg       0.82      0.82      0.82     19511\n",
      "\n",
      "0.8191789247091384\n"
     ]
    }
   ],
   "source": [
    "target_names = ['Pt-br', 'Pt-pt']\n",
    "print(classification_report(np.argmax(P2, axis=1), P1, target_names=target_names))\n",
    "from sklearn.metrics import accuracy_score\n",
    "print(accuracy_score(np.argmax(P2, axis=1), P1, normalize=True))"
   ]
  },
  {
   "cell_type": "code",
   "execution_count": null,
   "metadata": {},
   "outputs": [],
   "source": []
  }
 ],
 "metadata": {
  "kernelspec": {
   "display_name": "Python 3",
   "language": "python",
   "name": "python3"
  },
  "language_info": {
   "codemirror_mode": {
    "name": "ipython",
    "version": 3
   },
   "file_extension": ".py",
   "mimetype": "text/x-python",
   "name": "python",
   "nbconvert_exporter": "python",
   "pygments_lexer": "ipython3",
   "version": "3.6.7"
  }
 },
 "nbformat": 4,
 "nbformat_minor": 2
}
